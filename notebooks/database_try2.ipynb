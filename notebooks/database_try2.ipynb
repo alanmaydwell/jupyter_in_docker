{
 "cells": [
  {
   "cell_type": "markdown",
   "id": "7e8d71a8-75b4-4ccd-bcef-814c2f5386df",
   "metadata": {},
   "source": [
    "# Try the database connection using cx_Orcle \n",
    "This needs Oracle instant client"
   ]
  },
  {
   "cell_type": "code",
   "execution_count": 1,
   "id": "b0592a81-7f43-4847-baa0-93c036a16d67",
   "metadata": {},
   "outputs": [],
   "source": [
    "import getpass\n",
    "import cx_Oracle"
   ]
  },
  {
   "cell_type": "code",
   "execution_count": 2,
   "id": "d86341be-b904-4f1d-b49d-ee81e16817f2",
   "metadata": {},
   "outputs": [
    {
     "ename": "DatabaseError",
     "evalue": "DPI-1047: Cannot locate a 64-bit Oracle Client library: \"libaio.so.1: cannot open shared object file: No such file or directory\". See https://cx-oracle.readthedocs.io/en/latest/user_guide/installation.html for help",
     "output_type": "error",
     "traceback": [
      "\u001b[0;31m---------------------------------------------------------------------------\u001b[0m",
      "\u001b[0;31mDatabaseError\u001b[0m                             Traceback (most recent call last)",
      "Input \u001b[0;32mIn [2]\u001b[0m, in \u001b[0;36m<cell line: 1>\u001b[0;34m()\u001b[0m\n\u001b[0;32m----> 1\u001b[0m \u001b[43mcx_Oracle\u001b[49m\u001b[38;5;241;43m.\u001b[39;49m\u001b[43mclientversion\u001b[49m\u001b[43m(\u001b[49m\u001b[43m)\u001b[49m\n",
      "\u001b[0;31mDatabaseError\u001b[0m: DPI-1047: Cannot locate a 64-bit Oracle Client library: \"libaio.so.1: cannot open shared object file: No such file or directory\". See https://cx-oracle.readthedocs.io/en/latest/user_guide/installation.html for help"
     ]
    }
   ],
   "source": [
    "cx_Oracle.clientversion()"
   ]
  },
  {
   "cell_type": "code",
   "execution_count": 8,
   "id": "518f021b-a36e-4a40-aa91-f58758696c0e",
   "metadata": {},
   "outputs": [
    {
     "name": "stdin",
     "output_type": "stream",
     "text": [
      "Password ········\n"
     ]
    }
   ],
   "source": [
    "username = \"cclfdata\"\n",
    "password = getpass.getpass(\"Password\")\n",
    "host = \"host.docker.internal\"\n",
    "sid = \"ccr\"\n",
    "connstr = \"{}/{}@{}:1521/{}\".format(username, password, database, sid)"
   ]
  },
  {
   "cell_type": "code",
   "execution_count": null,
   "id": "77317a67-e3c7-489d-96d4-e38e446fabe6",
   "metadata": {},
   "outputs": [],
   "source": [
    "print(connstr)"
   ]
  },
  {
   "cell_type": "code",
   "execution_count": null,
   "id": "95a9b7ae-bf64-43d6-94c0-2208a94443d3",
   "metadata": {},
   "outputs": [],
   "source": [
    "connection = cx_Oracle.connect(connstr)\n",
    "cur = connection.cursor()\n",
    "cur.execute(\"select sysdate from dual\")\n",
    "print(cur.fetchall())\n",
    "connection.close()"
   ]
  }
 ],
 "metadata": {
  "kernelspec": {
   "display_name": "Python 3 (ipykernel)",
   "language": "python",
   "name": "python3"
  },
  "language_info": {
   "codemirror_mode": {
    "name": "ipython",
    "version": 3
   },
   "file_extension": ".py",
   "mimetype": "text/x-python",
   "name": "python",
   "nbconvert_exporter": "python",
   "pygments_lexer": "ipython3",
   "version": "3.9.12"
  }
 },
 "nbformat": 4,
 "nbformat_minor": 5
}
