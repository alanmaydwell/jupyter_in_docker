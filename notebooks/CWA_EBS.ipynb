{
 "cells": [
  {
   "cell_type": "markdown",
   "id": "f6b389f0-990e-41d0-84b2-143fdbc5a91c",
   "metadata": {},
   "source": [
    "# CWA EBS - Run SQL Queries"
   ]
  },
  {
   "cell_type": "code",
   "execution_count": 99,
   "id": "add644de-5933-4eda-9b24-43e75d36f447",
   "metadata": {},
   "outputs": [],
   "source": [
    "import getpass\n",
    "import time\n",
    "import pandas as pd\n",
    "import cx_Oracle\n",
    "from IPython.display import Markdown\n",
    "from ipywidgets import interact_manual, interact\n",
    "from handy import run_query_df, display_df\n",
    "\n",
    "# Stops warning about switching to SQL alchemy\n",
    "import warnings\n",
    "warnings.filterwarnings('ignore')\n",
    "\n",
    "def nowstring():\n",
    "    return time.strftime(\"%d/%m/%Y %H:%M:%S\")\n",
    "\n",
    "def run_queries(queries, titles, connstr, params):\n",
    "    \"\"\"Run multiple SQL queries and display their output\"\"\"\n",
    "    display(Markdown(\"## Prameters: \" + \",\".join([str(p) for p in params])))\n",
    "    display(Markdown(\"## Time: \" + nowstring()))\n",
    "    # If we have more queries than titles, pad the titles with \"\"\n",
    "    titles += [\"\"] * (len(queries) - len(titles))\n",
    "    for title, query in zip(titles, queries):\n",
    "        display(Markdown(\"### \" + title))\n",
    "        df = run_query_df(query, connstr, params)\n",
    "        display_df(df)\n",
    "    display(Markdown(\"## END \" + nowstring()))"
   ]
  },
  {
   "cell_type": "markdown",
   "id": "a1c296f7-efd2-495d-81a1-de6752da0113",
   "metadata": {
    "tags": []
   },
   "source": [
    "## Database connection details (CWA)"
   ]
  },
  {
   "cell_type": "code",
   "execution_count": 77,
   "id": "8f59070a-059c-4601-a925-e99f3e029831",
   "metadata": {},
   "outputs": [
    {
     "name": "stdin",
     "output_type": "stream",
     "text": [
      "CWA password:  ········\n"
     ]
    }
   ],
   "source": [
    "username = \"query\"\n",
    "database = \"host.docker.internal\"\n",
    "password = getpass.getpass(\"CWA password: \")\n",
    "connstr = f\"{username}/{password}@{database}:1571/cwa\""
   ]
  },
  {
   "cell_type": "markdown",
   "id": "6cb8ebaf-d3b1-498c-b496-32e538c67b0d",
   "metadata": {},
   "source": [
    "## Define Queries, Headings and Parameters (and button for running them)"
   ]
  },
  {
   "cell_type": "code",
   "execution_count": null,
   "id": "3f885623-5107-47aa-8b2c-56e55482beca",
   "metadata": {},
   "outputs": [],
   "source": [
    "vendor_sql = \"\"\"\n",
    "select\n",
    "vendor_site_code_alt \"Name\",\n",
    "vendor_site_id,\n",
    "vendor_id,\n",
    "address_line1,\n",
    "attribute3 \"Type\"\n",
    "from po.po_vendor_sites_all\n",
    "where vendor_site_code = :x\n",
    "\"\"\"\n",
    "\n",
    "submissions_sql = \"\"\"\n",
    "select\n",
    "v.vendor_site_code as \"Account\"\n",
    ",v.vendor_site_code_alt as \"Name\"\n",
    ",p.type_lookup_code\n",
    ",p.segment1 as \"PO Number\"\n",
    ",p.attribute4 as \"Parent Contract\"\n",
    ",p.start_date\n",
    ",p.end_date\n",
    ",p.authorization_status\n",
    ",p.attribute11\n",
    "from \n",
    "po.po_headers_all p\n",
    ",po.po_vendor_sites_all v\n",
    "where \n",
    "p.vendor_site_id=v.vendor_site_id\n",
    "and type_lookup_code = 'STANDARD'\n",
    "and v.vendor_site_code = :x\n",
    "\"\"\"\n",
    "\n",
    "queries = [vendor_sql, submissions_sql]\n",
    "titles = [\"Vendor Details\", \"Vendor's Submissions\"]\n",
    "params = [\"0C184Z\"]\n",
    "\n",
    "@interact_manual()        \n",
    "def go():\n",
    "    run_queries(queries, titles, connstr, params)\n"
   ]
  },
  {
   "cell_type": "markdown",
   "id": "40add60a-fb16-469c-a2ca-f06773a154be",
   "metadata": {},
   "source": [
    "### Alternative with simple input field for account number that auto queries upon update\n",
    "0G934M 0Y167H 0C015Q 0C024A"
   ]
  },
  {
   "cell_type": "code",
   "execution_count": 98,
   "id": "625d9720-552a-4dac-874f-2ab249c5625b",
   "metadata": {},
   "outputs": [
    {
     "data": {
      "application/vnd.jupyter.widget-view+json": {
       "model_id": "9c23591a007544f295fa4caacb50131e",
       "version_major": 2,
       "version_minor": 0
      },
      "text/plain": [
       "interactive(children=(Text(value='', description='account'), Output()), _dom_classes=('widget-interact',))"
      ]
     },
     "metadata": {},
     "output_type": "display_data"
    }
   ],
   "source": [
    "@interact(account=\"\")\n",
    "def go(account):\n",
    "    run_queries(queries, titles, connstr, [account])"
   ]
  },
  {
   "cell_type": "code",
   "execution_count": null,
   "id": "7b02ce5a-05b6-4575-9871-911e0460cd21",
   "metadata": {},
   "outputs": [],
   "source": []
  }
 ],
 "metadata": {
  "kernelspec": {
   "display_name": "Python 3 (ipykernel)",
   "language": "python",
   "name": "python3"
  },
  "language_info": {
   "codemirror_mode": {
    "name": "ipython",
    "version": 3
   },
   "file_extension": ".py",
   "mimetype": "text/x-python",
   "name": "python",
   "nbconvert_exporter": "python",
   "pygments_lexer": "ipython3",
   "version": "3.9.12"
  }
 },
 "nbformat": 4,
 "nbformat_minor": 5
}
