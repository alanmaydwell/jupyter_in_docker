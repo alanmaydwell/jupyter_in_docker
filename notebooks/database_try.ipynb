{
 "cells": [
  {
   "cell_type": "code",
   "execution_count": 1,
   "id": "f31c7900-0ac9-415a-be55-80012c2c72bd",
   "metadata": {},
   "outputs": [],
   "source": [
    "import getpass\n",
    "import oracledb"
   ]
  },
  {
   "cell_type": "code",
   "execution_count": 2,
   "id": "ac1e5c71-a1ed-4de0-b4f8-52e86cce7a36",
   "metadata": {},
   "outputs": [
    {
     "name": "stdin",
     "output_type": "stream",
     "text": [
      "Password ········\n"
     ]
    }
   ],
   "source": [
    "username = \"cclfdata\"\n",
    "sid = \"ccr\"\n",
    "port = 1521\n",
    "host = \"localhost\"\n",
    "password = getpass.getpass(\"Password\")\n",
    "constr = f\"{username}/{password}@{port}:{host}/{sid}\""
   ]
  },
  {
   "cell_type": "code",
   "execution_count": null,
   "id": "ce4461fc-fb54-450e-b24b-7a7d20d58c73",
   "metadata": {},
   "outputs": [],
   "source": [
    "print(constr)\n",
    "#connection = oracledb.connect(constr)"
   ]
  },
  {
   "cell_type": "code",
   "execution_count": null,
   "id": "6f1ac730-7bf7-414f-8330-e20ac384bf20",
   "metadata": {},
   "outputs": [],
   "source": [
    "connection = oracledb.connect(constr)"
   ]
  },
  {
   "cell_type": "code",
   "execution_count": null,
   "id": "f7d53a54-9bf6-49ed-b818-57a03c6a8215",
   "metadata": {},
   "outputs": [],
   "source": []
  }
 ],
 "metadata": {
  "kernelspec": {
   "display_name": "Python 3 (ipykernel)",
   "language": "python",
   "name": "python3"
  },
  "language_info": {
   "codemirror_mode": {
    "name": "ipython",
    "version": 3
   },
   "file_extension": ".py",
   "mimetype": "text/x-python",
   "name": "python",
   "nbconvert_exporter": "python",
   "pygments_lexer": "ipython3",
   "version": "3.9.12"
  }
 },
 "nbformat": 4,
 "nbformat_minor": 5
}
