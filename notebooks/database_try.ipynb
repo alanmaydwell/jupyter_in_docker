{
 "cells": [
  {
   "cell_type": "markdown",
   "id": "490d43f8-550a-4c2e-ba0c-25d7740d6311",
   "metadata": {},
   "source": [
    "# Try database connection using oracledb\n",
    "This can connect without Oracle Instant client depending on Db version (more likely with newer than older)"
   ]
  },
  {
   "cell_type": "code",
   "execution_count": 1,
   "id": "f31c7900-0ac9-415a-be55-80012c2c72bd",
   "metadata": {},
   "outputs": [],
   "source": [
    "import getpass\n",
    "import oracledb"
   ]
  },
  {
   "cell_type": "markdown",
   "id": "28f1c927-b8b8-464c-9df1-f5a816ab4dba",
   "metadata": {},
   "source": [
    "Note connection string format is slightly different from cx_Oracle - port number and hostname have swapped places"
   ]
  },
  {
   "cell_type": "code",
   "execution_count": 2,
   "id": "ac1e5c71-a1ed-4de0-b4f8-52e86cce7a36",
   "metadata": {},
   "outputs": [
    {
     "name": "stdin",
     "output_type": "stream",
     "text": [
      "Password ········\n"
     ]
    }
   ],
   "source": [
    "username = \"cclfdata\"\n",
    "sid = \"ccr\"\n",
    "port = 1521\n",
    "# Note the below works but get \"Errno 111\" if you try \"localhost\" or 0.0.0.0\n",
    "host = \"host.docker.internal\"\n",
    "password = getpass.getpass(\"Password\")\n",
    "constr = f\"{username}/{password}@{port}:{host}/{sid}\""
   ]
  },
  {
   "cell_type": "markdown",
   "id": "124c47dd-f50f-4e3f-9aa7-dacbd36dd9d1",
   "metadata": {},
   "source": [
    "## Try the connection"
   ]
  },
  {
   "cell_type": "code",
   "execution_count": 3,
   "id": "6f1ac730-7bf7-414f-8330-e20ac384bf20",
   "metadata": {},
   "outputs": [
    {
     "name": "stdout",
     "output_type": "stream",
     "text": [
      "[(datetime.datetime(2022, 8, 1, 10, 12, 39),)]\n"
     ]
    }
   ],
   "source": [
    "connection = oracledb.connect(constr)\n",
    "cur = connection.cursor()\n",
    "cur.execute(\"select sysdate from dual\")\n",
    "print(cur.fetchall())\n",
    "connection.close()"
   ]
  },
  {
   "cell_type": "code",
   "execution_count": null,
   "id": "f7d53a54-9bf6-49ed-b818-57a03c6a8215",
   "metadata": {},
   "outputs": [],
   "source": []
  }
 ],
 "metadata": {
  "kernelspec": {
   "display_name": "Python 3 (ipykernel)",
   "language": "python",
   "name": "python3"
  },
  "language_info": {
   "codemirror_mode": {
    "name": "ipython",
    "version": 3
   },
   "file_extension": ".py",
   "mimetype": "text/x-python",
   "name": "python",
   "nbconvert_exporter": "python",
   "pygments_lexer": "ipython3",
   "version": "3.9.12"
  }
 },
 "nbformat": 4,
 "nbformat_minor": 5
}
