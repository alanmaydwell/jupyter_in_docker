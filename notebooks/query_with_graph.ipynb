{
 "cells": [
  {
   "cell_type": "markdown",
   "id": "ff9d814f-fdf1-4cc5-aa49-4f254e7a24ab",
   "metadata": {},
   "source": [
    "# Get some data from database\n",
    "- display with some background highlighting\n",
    "- also show graph"
   ]
  },
  {
   "cell_type": "code",
   "execution_count": 1,
   "id": "8999d2c4-a15b-458d-b406-700cf1aec682",
   "metadata": {},
   "outputs": [],
   "source": [
    "import getpass\n",
    "import time\n",
    "import pandas as pd\n",
    "import cx_Oracle\n",
    "from IPython.display import Markdown\n",
    "from ipywidgets import interact_manual\n",
    "\n",
    "# Stops warning about switching to SQL alchemy\n",
    "import warnings\n",
    "warnings.filterwarnings('ignore')"
   ]
  },
  {
   "cell_type": "code",
   "execution_count": 2,
   "id": "afcc1417-6e28-4bd0-adf4-4b666900b740",
   "metadata": {
    "jupyter": {
     "source_hidden": true
    },
    "tags": []
   },
   "outputs": [],
   "source": [
    "def run_query_df(sql, connstr, params=()):\n",
    "    \"\"\"Run query and return results as pandas dataframe\"\"\"\n",
    "    conn = cx_Oracle.connect(connstr)\n",
    "    df = pd.read_sql_query(sql, conn, params=params)#, chunksize=100)\n",
    "    conn.close()  \n",
    "    return df\n",
    "\n",
    "def display_df(df):\n",
    "    \"\"\"Display full dataframe in Jupyter without auto truncation\"\"\"\n",
    "    with pd.option_context('display.max_columns', None, 'display.max_rows', None, 'display.max_colwidth', -1):\n",
    "        display(df)\n",
    "        \n",
    "def nowstring():\n",
    "    return time.strftime(\"%d/%m/%Y %H:%M:%S\")"
   ]
  },
  {
   "cell_type": "markdown",
   "id": "aea4ad3c-cdf5-4d06-82f3-55c856851685",
   "metadata": {
    "tags": []
   },
   "source": [
    "### Connection details"
   ]
  },
  {
   "cell_type": "code",
   "execution_count": 3,
   "id": "bb760eef-b2f8-49b7-be9f-353f45bed02e",
   "metadata": {
    "tags": []
   },
   "outputs": [
    {
     "name": "stdin",
     "output_type": "stream",
     "text": [
      "CCR password:  ········\n"
     ]
    }
   ],
   "source": [
    "ccr_username = \"cclfdata\"\n",
    "ccr_database = \"host.docker.internal\"\n",
    "ccr_password = getpass.getpass(\"CCR password: \")\n",
    "ccr_connstr = \"{}/{}@{}:1521/ccr\".format(ccr_username, ccr_password, ccr_database)"
   ]
  },
  {
   "cell_type": "markdown",
   "id": "1da73d7b-3baa-4cba-b67f-cd3c20c20f75",
   "metadata": {},
   "source": [
    "### Run the query\n",
    "Press `Run interact` to refresh"
   ]
  },
  {
   "cell_type": "code",
   "execution_count": 4,
   "id": "847bc8bf-42ce-48f6-a518-0caabec791bf",
   "metadata": {},
   "outputs": [
    {
     "data": {
      "application/vnd.jupyter.widget-view+json": {
       "model_id": "757b2f0a185d43da95ac9041e77dde93",
       "version_major": 2,
       "version_minor": 0
      },
      "text/plain": [
       "interactive(children=(Button(description='Run Interact', style=ButtonStyle()), Output()), _dom_classes=('widge…"
      ]
     },
     "metadata": {},
     "output_type": "display_data"
    }
   ],
   "source": [
    "@interact_manual\n",
    "def run_supplier_query():\n",
    "    sql = \"\"\"\n",
    "    select regi_region, count(*)\n",
    "    from suppliers\n",
    "    group by regi_region\n",
    "    order by count(*)\n",
    "    \"\"\"\n",
    "    supplier_df = run_query_df(sql, ccr_connstr)\n",
    "    \n",
    "    display(Markdown(\"## Supplier counts by region\"))\n",
    "    print(nowstring())\n",
    "    # show tabulated results with some background styling\n",
    "    display(supplier_df.style.background_gradient())\n",
    "    # bar chart (rot rotates x-axis labels)\n",
    "    supplier_df.plot.bar(x='REGI_REGION', y='COUNT(*)', rot=270)\n",
    "    "
   ]
  },
  {
   "cell_type": "code",
   "execution_count": null,
   "id": "72b0f7ec-f1a8-498d-9d06-3022c03e2b44",
   "metadata": {},
   "outputs": [],
   "source": []
  }
 ],
 "metadata": {
  "kernelspec": {
   "display_name": "Python 3 (ipykernel)",
   "language": "python",
   "name": "python3"
  },
  "language_info": {
   "codemirror_mode": {
    "name": "ipython",
    "version": 3
   },
   "file_extension": ".py",
   "mimetype": "text/x-python",
   "name": "python",
   "nbconvert_exporter": "python",
   "pygments_lexer": "ipython3",
   "version": "3.9.12"
  }
 },
 "nbformat": 4,
 "nbformat_minor": 5
}
